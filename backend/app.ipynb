{
 "cells": [
  {
   "cell_type": "code",
   "execution_count": null,
   "id": "8f35e8ee",
   "metadata": {},
   "outputs": [],
   "source": [
    "from flask import Flask, request, jsonify\n",
    "from flask_cors import CORS\n",
    "import joblib\n",
    "import numpy as np\n",
    "import os"
   ]
  },
  {
   "cell_type": "code",
   "execution_count": null,
   "id": "35f3388d",
   "metadata": {},
   "outputs": [],
   "source": [
    "app = Flask(__name__)\n",
    "CORS(app)"
   ]
  },
  {
   "cell_type": "code",
   "execution_count": null,
   "id": "26b442bf",
   "metadata": {
    "lines_to_next_cell": 1
   },
   "outputs": [],
   "source": [
    "# Load the model and encoders\n",
    "model = joblib.load(os.path.join('Sleepify/backend', 'best_model_decision_tree.pkl'))\n",
    "gender_encoder = joblib.load(os.path.join('Sleepify/backend', 'Gender_label_encoder.pkl'))\n",
    "occupation_encoder = joblib.load(os.path.join('Sleepify/backend', 'Occupation_label_encoder.pkl'))\n",
    "bmi_encoder = joblib.load(os.path.join('Sleepify/backend', 'BMI Category_label_encoder.pkl'))\n",
    "scaler = joblib.load(os.path.join('Sleepify/backend', 'minmax_scaler_split.pkl'))"
   ]
  },
  {
   "cell_type": "code",
   "execution_count": null,
   "id": "73a9f136",
   "metadata": {
    "lines_to_next_cell": 1
   },
   "outputs": [],
   "source": [
    "# Prediction endpoint\n",
    "@app.route('/predict', methods=['POST'])\n",
    "def predict():\n",
    "    data = request.json\n",
    "    try:\n",
    "        # Extract features from request\n",
    "        age = data['age']\n",
    "        gender = data['gender']\n",
    "        occupation = data['occupation']\n",
    "        bmi_category = data['bmi_category']\n",
    "        sleep_duration = data['sleep_duration']\n",
    "        quality_of_sleep = data['quality_of_sleep']\n",
    "        physical_activity_level = data['physical_activity_level']\n",
    "        stress_level = data['stress_level']\n",
    "        heart_rate = data['heart_rate']\n",
    "        daily_steps = data['daily_steps']\n",
    "        systolic = data['systolic']\n",
    "        diastolic = data['diastolic']\n",
    "        \n",
    "        # Encode categorical variables\n",
    "        gender_num = gender_encoder.transform([gender])[0]\n",
    "        occupation_num = occupation_encoder.transform([occupation])[0]\n",
    "        bmi_category_num = bmi_encoder.transform([bmi_category])[0]\n",
    "\n",
    "        # Prepare numerical features\n",
    "        numerical_features = [age, sleep_duration, quality_of_sleep, physical_activity_level, stress_level, heart_rate, daily_steps, systolic, diastolic]\n",
    "        complete_features = np.zeros((1, 12))\n",
    "        complete_features[0, :9] = numerical_features\n",
    "\n",
    "        # Scale features\n",
    "        scaled_features = scaler.transform(complete_features).flatten()\n",
    "\n",
    "        # Combine features for prediction\n",
    "        features = np.array([\n",
    "            gender_num,\n",
    "            scaled_features[0],  # age_scaled\n",
    "            occupation_num,\n",
    "            scaled_features[1],  # sleep_duration_scaled\n",
    "            scaled_features[2],  # quality_of_sleep_scaled\n",
    "            scaled_features[3],  # physical_activity_level_scaled\n",
    "            scaled_features[4],  # stress_level_scaled\n",
    "            bmi_category_num,\n",
    "            scaled_features[5],  # heart_rate_scaled\n",
    "            scaled_features[6],  # daily_steps_scaled\n",
    "            scaled_features[7],  # systolic_scaled\n",
    "            scaled_features[8]   # diastolic_scaled\n",
    "        ])\n",
    "\n",
    "        # Make prediction\n",
    "        prediction = model.predict(features.reshape(1, -1))[0]\n",
    "        return jsonify({'prediction': int(prediction)})\n",
    "\n",
    "    except Exception as e:\n",
    "        return jsonify({'error': str(e)})"
   ]
  },
  {
   "cell_type": "code",
   "execution_count": null,
   "id": "82f850cd",
   "metadata": {},
   "outputs": [],
   "source": [
    "if __name__ == '__main__':\n",
    "    app.run(debug=True)"
   ]
  }
 ],
 "metadata": {
  "jupytext": {
   "cell_metadata_filter": "-all",
   "main_language": "python",
   "notebook_metadata_filter": "-all"
  }
 },
 "nbformat": 4,
 "nbformat_minor": 5
}
